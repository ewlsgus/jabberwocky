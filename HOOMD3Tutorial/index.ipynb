{
 "cells": [
  {
   "cell_type": "markdown",
   "metadata": {},
   "source": [
    "# Table of Contents"
   ]
  },
  {
   "cell_type": "markdown",
   "metadata": {},
   "source": [
    "## 1. Introduction\n",
    "\n",
    "The purpose of this notebook is to provide a starting place for running HOOMD-blue molecular dynamics simulations. It is recommended that you read the official HOOMD-blue tutorial (<https://hoomd-blue.readthedocs.io/en/v3.0.1/tutorial/01-Introducing-Molecular-Dynamics/01-Molecular-Dynamics-Simulations.html>) that contains some basic information that can help you to understand the basic set-up of the simulation scripts before going through this notebook. This document will hopefully help you to remember and get more familiar with the HOOMD-blue classes/functions and Python syntax to use them.\n"
   ]
  },
  {
   "cell_type": "markdown",
   "metadata": {},
   "source": [
    "## 2. Ensuring that you have the necessary packages to go through this tutorial <a name=\"system_check\"></a>\n",
    "\n",
    "Going through this notebook will require you to have certain Python packages installed on your machine. Assuming you have them set-up within your conda environment, activate the environment and check for the packages with `conda list | grep \"hoomd\\|freud*\\|gsd\\|matplotlib\"`.\n",
    "\n",
    "The output should resemble the following:\n",
    "\n",
    "|  |  |  |  |\n",
    "| --- | --- | --- | --- |\n",
    "| freud | 2.8.0 | py310he7ab2d0_0 | conda-forge |\n",
    "| gsd | 2.5.2 | py310h7f5fb2b_0 | conda-forge |\n",
    "| hoomd | 3.0.0 | cpu_py310h89b14bd_1 | conda-forge |\n",
    "| matplotlib | 3.5.1 | py310hecd8cb5_1 |  |\n",
    "| matplotlib-base | 3.5.1 | py310hfb0c5b7_1 |  |\n",
    "| matplotlib-inline | 0.1.2 | pyhd3eb1b0_2 |  |\n",
    "\n",
    "Unless there is a major version difference ex. V2.x.x vs V3.x.x, there shouldn't be a difference in the syntax, so don't worry about minor details of the output. If there has been a major version change for any of the packages, please raise an issue on the github repository for it to be updated.\n",
    "\n",
    "If all four packages are installed, start up an interactive Python session with `python` and type the following for the basic functions of the simulation to ensure that your packages are functioning correctly without conflicts.\n",
    "\n",
    "```python\n",
    "import hoomd, freud, gsd.hoomd, matplotlib.pyplot as plt\n",
    "hoomd.device.CPU()\n",
    "freud.Box.cube(10)\n",
    "gsd.hoomd.Snapshot()\n",
    "plt.figure()\n",
    "```\n",
    "\n",
    "If all works without any error, proceed to the next section. If not, you may need to reinstall the malfunctioning packages.\n"
   ]
  },
  {
   "cell_type": "markdown",
   "metadata": {},
   "source": [
    "## 3. Initializing a system - FCC lattice\n",
    "\n",
    "There are a few ways to initialize a molecular dynamics system. For example, to create an FCC lattice, you can choose from:\n",
    "\n",
    "1. custom python script to provide molecule positions\n",
    "2. freud unit cell functions\n",
    "3. other specialized packages as suggested by HOOMD-blue developers\n",
    "    * mbuild (<https://mbuild.mosdef.org/en/stable/>)\n",
    "    * Foyer (<https://foyer.mosdef.org/en/stable/>)\n",
    "\n",
    "This notebook will focus on using the first two options.\n"
   ]
  },
  {
   "cell_type": "markdown",
   "metadata": {},
   "source": [
    "### 3-1 Building an FCC unit cell using custom python scripts\n",
    "\n",
    "The process is broken down to the following:\n",
    "\n",
    "1. Define the system properties\n",
    "    1. particle size\n",
    "    2. density\n",
    "    3. dimension of the simulation box (x:y:z)\n",
    "2. Define a unit cell from the given parameters\n",
    "3. clone the unit cell to produce coordinate points\n",
    "4. output a gsd snapshot to be called into HOOMD-blue\n",
    "\n",
    "See below for a code block that generates an FCC lattice snapshot with 20000 particles with diameter of 1.0 and Lennard-Jones potential with epsilon of 6 kT, system density of 0.60, and box dimensions of (x:y:z=1:1:1).\n"
   ]
  },
  {
   "cell_type": "code",
   "execution_count": 10,
   "metadata": {},
   "outputs": [
    {
     "name": "stdout",
     "output_type": "stream",
     "text": [
      "<class 'numpy.ndarray'>\n"
     ]
    }
   ],
   "source": [
    "import numpy as np\n",
    "import hoomd\n",
    "import gsd.hoomd\n",
    "\n",
    "############### system parameters ###############\n",
    "N = int(20000) # number of particles\n",
    "sigma = float(1.0) # particle diameter\n",
    "phi = float(0.60) # system density\n",
    "boxDim = np.array([1,1,1,0,0,0], dtype=int) # simulation box dimensions\n",
    "\n",
    "############### derived parameters ###############\n",
    "partVol = float(np.pi * (sigma) ** 3 / 6) # volume of a single particle\n",
    "totPartVol = float(partVol * N) # volume of all particles\n",
    "boxVol = float(totPartVol / phi) # volume of the simulation box with the given system density\n",
    "targetBox = boxDim * (boxVol / np.prod(boxDim[0:3])) ** (1 / 3) # box configuration\n",
    "\n",
    "############### initiate a gsd snapshot ###############\n",
    "snapshot = gsd.hoomd.Snapshot() # define a snapshot\n",
    "snapshot.particles.types=['A'] # add a single species of particles\n",
    "\n",
    "############### calculate number of unit cell repeat ###############\n",
    "cellSideLen = sigma * ((2 * np.pi) / (3 * phi)) ** (1/3) # unit cell side length\n",
    "repeatTestVal = np.floor((boxDim/cellSideLen)).astype('int64') # number of cells on each side\n",
    "uCellRepeat = repeatTestVal if 4 * np.prod(repeatTestVal[0:3]) >= N \\\n",
    "              else np.ceil((boxDim/cellSideLen)).astype('int64') # test if the number of cells was an underestimate, and if so, overestimate\n",
    "temp = ( # template unit cell with a corner at the origin\n",
    "    np.array([0, 0, 0]),\n",
    "    np.array([cellSideLen/2, cellSideLen/2, 0]),\n",
    "    np.array([cellSideLen/2, 0, cellSideLen/2]),\n",
    "    np.array([0, cellSideLen/2, cellSideLen/2])\n",
    ")\n",
    "\n",
    "cellLengths = cellSideLen * (uCellRepeat+[1, 1, 1, 0, 0, 0]) #overestimate the box dimensions to ensure all particles are within the box\n",
    "snapshot.configuration.box = cellLengths\n",
    "\n",
    "############### iterate over the number of repeat and populate position array ###############\n",
    "pos = []\n",
    "for i in range(uCellRepeat[0]): # loop over the first dimension\n",
    "    for j in range(uCellRepeat[1]): # loop over the second dimension\n",
    "        for k in range(uCellRepeat[2]): # loop over the third dimension\n",
    "            currentLoc = np.array([ # translation vector\n",
    "                -uCellRepeat[0] * cellSideLen/2 + i * cellSideLen + (snapshot.configuration.box[0] - cellLengths[0])/2,\n",
    "                -uCellRepeat[1] * cellSideLen/2 + j * cellSideLen + (snapshot.configuration.box[1] - cellLengths[0])/2,\n",
    "                -uCellRepeat[2] * cellSideLen/2 + k * cellSideLen + (snapshot.configuration.box[1] - cellLengths[0])/2\n",
    "            ])\n",
    "            for l in temp: # append each position value after translation\n",
    "                if len(pos) < N:\n",
    "                    pos.append(l+currentLoc)\n",
    "\n",
    "snapshot.particles.position = pos # set particle positions\n",
    "\n"
   ]
  },
  {
   "cell_type": "markdown",
   "metadata": {},
   "source": [
    "### 3-2 Building an FCC unit cell using freud unit cell functions\n",
    "\n",
    "Using frued requires less creativity as it automates the process. Refer"
   ]
  },
  {
   "cell_type": "markdown",
   "metadata": {},
   "source": [
    "The advantages of using a custom script are that\n",
    "\n",
    "1. you know exactly what is going on with the initialization process and thus can predict/correct the initialization behaviors\n",
    "2. you can define more than the basic lattices provided by the software packages\n",
    "\n",
    "and the disadvantages are that\n",
    "\n",
    "1. you need to make your own script\n",
    "2. upon syntax change, you need to maintain and update the code yourself"
   ]
  }
 ],
 "metadata": {
  "interpreter": {
   "hash": "b108e1c5c55154b633c19da506d70e99e15c33a38aab01425d7efbecfc88d351"
  },
  "kernelspec": {
   "display_name": "Python 3.8.13",
   "language": "python",
   "name": "python3"
  },
  "language_info": {
   "codemirror_mode": {
    "name": "ipython",
    "version": 3
   },
   "file_extension": ".py",
   "mimetype": "text/x-python",
   "name": "python",
   "nbconvert_exporter": "python",
   "pygments_lexer": "ipython3",
   "version": "3.10.4"
  },
  "orig_nbformat": 4
 },
 "nbformat": 4,
 "nbformat_minor": 2
}
