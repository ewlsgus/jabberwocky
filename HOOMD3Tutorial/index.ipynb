{
 "cells": [
  {
   "cell_type": "markdown",
   "metadata": {},
   "source": [
    "# Table of Contents"
   ]
  },
  {
   "cell_type": "markdown",
   "metadata": {},
   "source": [
    "## 1. Introduction\n",
    "\n",
    "The purpose of this notebook is to provide a starting place for running HOOMD-blue molecular dynamics simulations. It is recommended that you read the official HOOMD-blue tutorial (<https://hoomd-blue.readthedocs.io/en/v3.0.1/tutorial/01-Introducing-Molecular-Dynamics/01-Molecular-Dynamics-Simulations.html>) that contains some basic information that can help you to understand the basic set-up of the simulation scripts before going through this notebook. This document will hopefully help you to remember and get more familiar with the HOOMD-blue classes/functions and Python syntax to use them.\n"
   ]
  },
  {
   "cell_type": "markdown",
   "metadata": {},
   "source": [
    "## 2. Ensuring that you have the necessary packages to go through this tutorial <a name=\"system_check\"></a>\n",
    "\n",
    "Going through this notebook will require you to have certain Python packages installed on your machine. Assuming you have them set-up within your conda environment, activate the environment and check for the packages with `conda list | grep \"hoomd\\|freud*\\|gsd\\|matplotlib\"`.\n",
    "\n",
    "The output should resemble the following:\n",
    "\n",
    "|  |  |  |  |\n",
    "| --- | --- | --- | --- |\n",
    "| freud | 2.8.0 | py310he7ab2d0_0 | conda-forge |\n",
    "| __gsd__ | __2.5.2__ | __py310h7f5fb2b_0__ | __conda-forge__ |\n",
    "| __hoomd__ | __3.0.0__ | __cpu_py310h89b14bd_1__ | __conda-forge__ |\n",
    "| __matplotlib__ | __3.5.1__ | __py310hecd8cb5_1__ |  |\n",
    "| __matplotlib-base__ | __3.5.1__ | __py310hfb0c5b7_1__ |  |\n",
    "| __matplotlib-inline__ | __0.1.2__ | __pyhd3eb1b0_2__ |  |\n",
    "\n",
    "Unless there is a major version difference ex. V2.x.x vs V3.x.x, there shouldn't be a difference in the syntax, so don't worry about minor details of the output. If there has been a major version change for any of the packages, please raise an issue on the github repository for it to be updated.\n",
    "\n",
    "If all four packages are installed, start up an interactive Python session with `python` and type the following for the basic functions of the simulation to ensure that your packages are functioning correctly without conflicts.\n",
    "\n",
    "```python\n",
    "import hoomd, freud, gsd.hoomd, matplotlib.pyplot as plt\n",
    "hoomd.device.CPU()\n",
    "freud.Box.cube(10)\n",
    "gsd.hoomd.Snapshot()\n",
    "plt.figure()\n",
    "```\n",
    "\n",
    "If all works without any error, proceed to the next section. If not, you may need to reinstall the malfunctioning packages.\n"
   ]
  },
  {
   "cell_type": "markdown",
   "metadata": {},
   "source": [
    "## 3. Initializing a system - FCC lattice\n",
    "\n",
    "There are a few ways to initialize a molecular dynamics system. For example, to create an FCC lattice, you can choose from:\n",
    "\n",
    "1. custom python script to provide molecule positions\n",
    "2. freud unit cell functions\n",
    "3. other specialized packages as suggested by HOOMD-blue developers\n",
    "    * mbuild (<https://mbuild.mosdef.org/en/stable/>)\n",
    "    * Foyer (<https://foyer.mosdef.org/en/stable/>)\n",
    "\n",
    "This notebook will focus on using the first two options.\n"
   ]
  },
  {
   "cell_type": "markdown",
   "metadata": {},
   "source": [
    "### 3-1 Building an FCC unit cell using custom python scripts"
   ]
  },
  {
   "cell_type": "code",
   "execution_count": null,
   "metadata": {},
   "outputs": [],
   "source": []
  }
 ],
 "metadata": {
  "interpreter": {
   "hash": "b108e1c5c55154b633c19da506d70e99e15c33a38aab01425d7efbecfc88d351"
  },
  "kernelspec": {
   "display_name": "Python 3.8.13",
   "language": "python",
   "name": "python3"
  },
  "language_info": {
   "name": "python",
   "version": ""
  },
  "orig_nbformat": 4
 },
 "nbformat": 4,
 "nbformat_minor": 2
}
