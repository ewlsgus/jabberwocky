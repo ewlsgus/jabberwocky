{
 "cells": [
  {
   "cell_type": "markdown",
   "metadata": {},
   "source": [
    "## Table of Contents\n",
    "* [Introduction](#introduction)\n",
    "* [Ensuring that you have the necessary packages to go through this tutorial <a name=\"system_check\"></a>](#ensuring-that-you-have-the-necessary-packages-to-go-through-this-tutorial-a-name\"systemcheck\"a)\n",
    "* [Initializing a system - FCC lattice](#initializing-a-system---fcc-lattice)"
   ]
  },
  {
   "cell_type": "markdown",
   "metadata": {},
   "source": [
    "## Introduction\n",
    "The purpose of this notebook is to provide a starting place for running HOOMD-blue molecular dynamics simulations. It is recommended that you read the official HOOMD-blue tutorial (<https://hoomd-blue.readthedocs.io/en/v3.0.1/tutorial/01-Introducing-Molecular-Dynamics/01-Molecular-Dynamics-Simulations.html>) that contains some basic information that can help you to understand the basic set-up of the simulation scripts before going through this notebook. This document will hopefully help you to remember and get more familiar with the HOOMD-blue classes/functions and Python syntax to use them."
   ]
  },
  {
   "cell_type": "markdown",
   "metadata": {},
   "source": [
    "## Ensuring that you have the necessary packages to go through this tutorial <a name=\"system_check\"></a>\n",
    "Going through this notebook will require you to have certain Python packages installed on your machine. Assuming you have them set-up within your conda environment, activate the environment and check for the following packages with `conda list | grep \"*package1 name*\\|*package2 name*\\|*package3 name*...`.\n",
    "<ul>\n",
    "    <li>hoomd</li>\n",
    "    <li>freud</li>\n",
    "    <li>gsd</li>\n",
    "    <li>matplotlib</li>\n",
    "</ul>\n",
    "\n",
    "The output should resemble the following:\n",
    ">freud                     2.8.0           py310he7ab2d0_0    conda-forge\n",
    "\n",
    ">gsd                       2.5.2           py310h7f5fb2b_0    conda-forge\n",
    "\n",
    ">hoomd                     3.0.0           cpu_py310h89b14bd_1    conda-forge\n",
    "\n",
    ">matplotlib                3.5.1           py310hecd8cb5_1\n",
    "\n",
    ">matplotlib-base           3.5.1           py310hfb0c5b7_1\n",
    "\n",
    ">matplotlib-inline         0.1.2              pyhd3eb1b0_2\n",
    "\n",
    "If all four packages are installed, start up an interactive Python session with `python` and type the following for the basic functions of the simulation to ensure that your packages are functioning correctly without conflicts.\n",
    "\n",
    "```python\n",
    "import hoomd, freud, gsd.hoomd, matplotlib.pyplot as plt\n",
    "hoomd.device.CPU()\n",
    "freud.Box.cube(10)\n",
    "gsd.hoomd.Snapshot()\n",
    "plt.figure()\n",
    "```\n",
    "\n",
    "If all works without any error, proceed to the next section. If not, you may need to reinstall the malfunctioning packages."
   ]
  },
  {
   "cell_type": "markdown",
   "metadata": {},
   "source": [
    "## Initializing a system - FCC lattice"
   ]
  },
  {
   "cell_type": "code",
   "execution_count": null,
   "metadata": {},
   "outputs": [],
   "source": []
  }
 ],
 "metadata": {
  "interpreter": {
   "hash": "b108e1c5c55154b633c19da506d70e99e15c33a38aab01425d7efbecfc88d351"
  },
  "kernelspec": {
   "display_name": "Python 3.8.13",
   "language": "python",
   "name": "python3"
  },
  "language_info": {
   "name": "python",
   "version": ""
  },
  "orig_nbformat": 4
 },
 "nbformat": 4,
 "nbformat_minor": 2
}
